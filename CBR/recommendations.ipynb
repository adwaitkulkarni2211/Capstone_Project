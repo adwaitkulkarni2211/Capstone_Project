{
 "cells": [
  {
   "attachments": {},
   "cell_type": "markdown",
   "metadata": {},
   "source": [
    "# Cleaning"
   ]
  },
  {
   "cell_type": "code",
   "execution_count": 51,
   "metadata": {},
   "outputs": [],
   "source": [
    "import pandas as pd\n",
    "df = pd.read_csv('./data.csv')"
   ]
  },
  {
   "cell_type": "code",
   "execution_count": 52,
   "metadata": {},
   "outputs": [
    {
     "data": {
      "text/html": [
       "<div>\n",
       "<style scoped>\n",
       "    .dataframe tbody tr th:only-of-type {\n",
       "        vertical-align: middle;\n",
       "    }\n",
       "\n",
       "    .dataframe tbody tr th {\n",
       "        vertical-align: top;\n",
       "    }\n",
       "\n",
       "    .dataframe thead th {\n",
       "        text-align: right;\n",
       "    }\n",
       "</style>\n",
       "<table border=\"1\" class=\"dataframe\">\n",
       "  <thead>\n",
       "    <tr style=\"text-align: right;\">\n",
       "      <th></th>\n",
       "      <th>features__id</th>\n",
       "      <th>features__geometry__coordinates__001</th>\n",
       "      <th>features__geometry__coordinates__002</th>\n",
       "      <th>features__properties__name</th>\n",
       "      <th>features__properties__kinds</th>\n",
       "    </tr>\n",
       "  </thead>\n",
       "  <tbody>\n",
       "    <tr>\n",
       "      <th>0</th>\n",
       "      <td>7982642</td>\n",
       "      <td>73.856285</td>\n",
       "      <td>18.519789</td>\n",
       "      <td>Navagraha Shani Mandir</td>\n",
       "      <td>religion,hindu_temples,interesting_places</td>\n",
       "    </tr>\n",
       "    <tr>\n",
       "      <th>1</th>\n",
       "      <td>1880291</td>\n",
       "      <td>73.855774</td>\n",
       "      <td>18.519611</td>\n",
       "      <td>NaN</td>\n",
       "      <td>architecture,historic_architecture,interesting...</td>\n",
       "    </tr>\n",
       "    <tr>\n",
       "      <th>2</th>\n",
       "      <td>7989636</td>\n",
       "      <td>73.855408</td>\n",
       "      <td>18.520498</td>\n",
       "      <td>NaN</td>\n",
       "      <td>religion,hindu_temples,interesting_places</td>\n",
       "    </tr>\n",
       "    <tr>\n",
       "      <th>3</th>\n",
       "      <td>8119763</td>\n",
       "      <td>73.855835</td>\n",
       "      <td>18.519409</td>\n",
       "      <td>NaN</td>\n",
       "      <td>architecture,historic_architecture,interesting...</td>\n",
       "    </tr>\n",
       "    <tr>\n",
       "      <th>4</th>\n",
       "      <td>4982515</td>\n",
       "      <td>73.855301</td>\n",
       "      <td>18.520477</td>\n",
       "      <td>Shaniwar Wada Amphitheatre</td>\n",
       "      <td>architecture,historic_architecture,fortificati...</td>\n",
       "    </tr>\n",
       "    <tr>\n",
       "      <th>...</th>\n",
       "      <td>...</td>\n",
       "      <td>...</td>\n",
       "      <td>...</td>\n",
       "      <td>...</td>\n",
       "      <td>...</td>\n",
       "    </tr>\n",
       "    <tr>\n",
       "      <th>495</th>\n",
       "      <td>5167813</td>\n",
       "      <td>73.860718</td>\n",
       "      <td>18.754732</td>\n",
       "      <td>NaN</td>\n",
       "      <td>religion,hindu_temples,interesting_places</td>\n",
       "    </tr>\n",
       "    <tr>\n",
       "      <th>496</th>\n",
       "      <td>7989644</td>\n",
       "      <td>73.869949</td>\n",
       "      <td>18.754507</td>\n",
       "      <td>NaN</td>\n",
       "      <td>religion,hindu_temples,interesting_places</td>\n",
       "    </tr>\n",
       "    <tr>\n",
       "      <th>497</th>\n",
       "      <td>1880659</td>\n",
       "      <td>73.849441</td>\n",
       "      <td>18.755674</td>\n",
       "      <td>NaN</td>\n",
       "      <td>religion,hindu_temples,interesting_places</td>\n",
       "    </tr>\n",
       "    <tr>\n",
       "      <th>498</th>\n",
       "      <td>1880658</td>\n",
       "      <td>73.848267</td>\n",
       "      <td>18.756159</td>\n",
       "      <td>NaN</td>\n",
       "      <td>religion,hindu_temples,interesting_places</td>\n",
       "    </tr>\n",
       "    <tr>\n",
       "      <th>499</th>\n",
       "      <td>5102378</td>\n",
       "      <td>73.865364</td>\n",
       "      <td>18.756971</td>\n",
       "      <td>Bolhai mata mandir, chakan</td>\n",
       "      <td>religion,other_temples,interesting_places</td>\n",
       "    </tr>\n",
       "  </tbody>\n",
       "</table>\n",
       "<p>500 rows × 5 columns</p>\n",
       "</div>"
      ],
      "text/plain": [
       "     features__id  features__geometry__coordinates__001  \\\n",
       "0         7982642                             73.856285   \n",
       "1         1880291                             73.855774   \n",
       "2         7989636                             73.855408   \n",
       "3         8119763                             73.855835   \n",
       "4         4982515                             73.855301   \n",
       "..            ...                                   ...   \n",
       "495       5167813                             73.860718   \n",
       "496       7989644                             73.869949   \n",
       "497       1880659                             73.849441   \n",
       "498       1880658                             73.848267   \n",
       "499       5102378                             73.865364   \n",
       "\n",
       "     features__geometry__coordinates__002  features__properties__name  \\\n",
       "0                               18.519789      Navagraha Shani Mandir   \n",
       "1                               18.519611                         NaN   \n",
       "2                               18.520498                         NaN   \n",
       "3                               18.519409                         NaN   \n",
       "4                               18.520477  Shaniwar Wada Amphitheatre   \n",
       "..                                    ...                         ...   \n",
       "495                             18.754732                         NaN   \n",
       "496                             18.754507                         NaN   \n",
       "497                             18.755674                         NaN   \n",
       "498                             18.756159                         NaN   \n",
       "499                             18.756971  Bolhai mata mandir, chakan   \n",
       "\n",
       "                           features__properties__kinds  \n",
       "0            religion,hindu_temples,interesting_places  \n",
       "1    architecture,historic_architecture,interesting...  \n",
       "2            religion,hindu_temples,interesting_places  \n",
       "3    architecture,historic_architecture,interesting...  \n",
       "4    architecture,historic_architecture,fortificati...  \n",
       "..                                                 ...  \n",
       "495          religion,hindu_temples,interesting_places  \n",
       "496          religion,hindu_temples,interesting_places  \n",
       "497          religion,hindu_temples,interesting_places  \n",
       "498          religion,hindu_temples,interesting_places  \n",
       "499          religion,other_temples,interesting_places  \n",
       "\n",
       "[500 rows x 5 columns]"
      ]
     },
     "execution_count": 52,
     "metadata": {},
     "output_type": "execute_result"
    }
   ],
   "source": [
    "df"
   ]
  },
  {
   "cell_type": "code",
   "execution_count": 66,
   "metadata": {},
   "outputs": [
    {
     "data": {
      "text/plain": [
       "features__id                             0\n",
       "features__geometry__coordinates__001     0\n",
       "features__geometry__coordinates__002     0\n",
       "features__properties__name              79\n",
       "features__properties__kinds              0\n",
       "dtype: int64"
      ]
     },
     "execution_count": 66,
     "metadata": {},
     "output_type": "execute_result"
    }
   ],
   "source": [
    "df.isnull().sum()"
   ]
  },
  {
   "cell_type": "code",
   "execution_count": 67,
   "metadata": {},
   "outputs": [],
   "source": [
    "new_df = df.dropna()\n",
    "new_df = new_df[~new_df['features__properties__name'].str.contains('\\d', na=False)]"
   ]
  },
  {
   "cell_type": "code",
   "execution_count": 68,
   "metadata": {},
   "outputs": [],
   "source": [
    "new_df.to_csv(\"./new_data.csv\")"
   ]
  },
  {
   "attachments": {},
   "cell_type": "markdown",
   "metadata": {},
   "source": [
    "# CBR"
   ]
  },
  {
   "cell_type": "code",
   "execution_count": 69,
   "metadata": {},
   "outputs": [],
   "source": [
    "from sklearn.feature_extraction.text import TfidfVectorizer\n",
    "from sklearn.metrics.pairwise import linear_kernel"
   ]
  },
  {
   "cell_type": "code",
   "execution_count": 70,
   "metadata": {},
   "outputs": [],
   "source": [
    "ds = pd.read_csv(\"./new_data.csv\")"
   ]
  },
  {
   "cell_type": "code",
   "execution_count": 71,
   "metadata": {},
   "outputs": [],
   "source": [
    "tf = TfidfVectorizer(analyzer='word', ngram_range=(1, 3), min_df=0, stop_words='english')\n",
    "tfidf_matrix = tf.fit_transform(ds['features__properties__kinds'])"
   ]
  },
  {
   "cell_type": "code",
   "execution_count": 72,
   "metadata": {},
   "outputs": [],
   "source": [
    "cosine_similarities = linear_kernel(tfidf_matrix, tfidf_matrix)\n",
    "results = {}"
   ]
  },
  {
   "cell_type": "code",
   "execution_count": 73,
   "metadata": {},
   "outputs": [
    {
     "name": "stdout",
     "output_type": "stream",
     "text": [
      "done!\n"
     ]
    }
   ],
   "source": [
    "for idx, row in ds.iterrows():\n",
    "    similar_indices = cosine_similarities[idx].argsort()[:-100:-1]\n",
    "    similar_items = [(cosine_similarities[idx][i], ds['features__id'][i]) for i in similar_indices]\n",
    "\n",
    "    results[row['features__id']] = similar_items[1:]\n",
    "    \n",
    "print('done!')"
   ]
  },
  {
   "cell_type": "code",
   "execution_count": 74,
   "metadata": {},
   "outputs": [],
   "source": [
    "def item(id):\n",
    "    return ds.loc[ds['features__id'] == id]['features__properties__name'].tolist()[0]"
   ]
  },
  {
   "cell_type": "code",
   "execution_count": 75,
   "metadata": {},
   "outputs": [],
   "source": [
    "def recommend(item_id, num):\n",
    "    print(\"Recommending \" + str(num) + \" places similar to \" + item(item_id) + \"...\")\n",
    "    print(\"-------\")\n",
    "    recs = results[item_id][:num]\n",
    "    for rec in recs:\n",
    "        print(\"Recommended: \" + item(rec[1]) + \" (score:\" + str(rec[0]) + \")\")"
   ]
  },
  {
   "cell_type": "code",
   "execution_count": 77,
   "metadata": {},
   "outputs": [
    {
     "name": "stdout",
     "output_type": "stream",
     "text": [
      "Recommending 10 places similar to COEP Auditorium...\n",
      "-------\n",
      "Recommended: Ankushrao Landge Natyagruha (score:0.9999999999999999)\n",
      "Recommended: Dhanwantari Auditorium (score:0.9999999999999999)\n",
      "Recommended: Amphitheatre (score:0.9999999999999999)\n",
      "Recommended: Amphitheater (score:0.9999999999999999)\n",
      "Recommended: Nehru Memorial Hall (score:0.9999999999999999)\n",
      "Recommended: Mini Auditorium COEP (score:0.9999999999999999)\n",
      "Recommended: COEP Auditorium (score:0.9999999999999999)\n",
      "Recommended: Auditorium (score:0.9999999999999999)\n",
      "Recommended: Pandit Bhimsen Joshi Kalamandir (score:0.9999999999999999)\n",
      "Recommended: Bharat Naatya Mandir (score:0.9999999999999999)\n"
     ]
    }
   ],
   "source": [
    "recommend(item_id=1880355, num=10)"
   ]
  }
 ],
 "metadata": {
  "kernelspec": {
   "display_name": "Python 3",
   "language": "python",
   "name": "python3"
  },
  "language_info": {
   "codemirror_mode": {
    "name": "ipython",
    "version": 3
   },
   "file_extension": ".py",
   "mimetype": "text/x-python",
   "name": "python",
   "nbconvert_exporter": "python",
   "pygments_lexer": "ipython3",
   "version": "3.9.7"
  },
  "orig_nbformat": 4,
  "vscode": {
   "interpreter": {
    "hash": "8365b3fabfbdf0b86e58fb80fb76d2685534e55142889b71d152b0612a9d9a4a"
   }
  }
 },
 "nbformat": 4,
 "nbformat_minor": 2
}
